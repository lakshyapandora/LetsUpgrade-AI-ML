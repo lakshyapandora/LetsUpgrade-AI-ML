{
 "cells": [
  {
   "cell_type": "code",
   "execution_count": 1,
   "metadata": {},
   "outputs": [],
   "source": [
    "import numpy as np \n",
    "import pandas as pd "
   ]
  },
  {
   "cell_type": "code",
   "execution_count": 32,
   "metadata": {},
   "outputs": [],
   "source": [
    "data=pd.read_csv(\"E:/AI ML/letsupgrade/Material/Day 25/train.csv\")\n",
    "\n",
    "from sklearn import preprocessing\n",
    "encoded=preprocessing.LabelEncoder()\n",
    "data[\"Sex\"]=encoded.fit_transform(data[\"Sex\"])\n",
    "data[\"Embarked\"]=encoded.fit_transform(data[\"Embarked\"])\n",
    "x=data.drop([\"Name\",\"Ticket\",\"Cabin\",\"PassengerId\",\"Pclass\"],axis=1)\n",
    "z=data[\"Pclass\"]\n",
    "\n",
    "from sklearn.model_selection import train_test_split\n",
    "X_train,X_test,y_train,y_test=train_test_split(x,z,test_size=0.3,random_state=0)\n",
    "\n",
    "from sklearn.metrics import accuracy_score\n",
    "from sklearn.metrics import confusion_matrix"
   ]
  },
  {
   "cell_type": "code",
   "execution_count": 30,
   "metadata": {},
   "outputs": [],
   "source": [
    "def KNN(X_train,y_train,X_test,y_test,l):\n",
    "    i=2\n",
    "    t=0\n",
    "    w=0\n",
    "    while i<(l):\n",
    "        from sklearn import neighbors\n",
    "        k_model=neighbors.KNeighborsClassifier(n_neighbors=i)\n",
    "        k_model.fit(X=X_train,y=y_train)\n",
    "        p=k_model.score(X_test,y_test)\n",
    "        \n",
    "        if p>=t:\n",
    "            t=p\n",
    "            w=i\n",
    "        i+=1\n",
    "    print(\"Model gives maximim accuracy when there are\",w,\"neighbours and that value is\",t)\n",
    "    "
   ]
  },
  {
   "cell_type": "code",
   "execution_count": 31,
   "metadata": {},
   "outputs": [
    {
     "name": "stdout",
     "output_type": "stream",
     "text": [
      "Model gives maximim accuracy when there are 3 neighbours and that value is 0.8651685393258427\n"
     ]
    }
   ],
   "source": [
    "KNN(X_train,y_train,X_test,y_test,len(X_train))"
   ]
  },
  {
   "cell_type": "markdown",
   "metadata": {},
   "source": [
    "## Model gives maximim accuracy when there are 1 neighbours and that value is 0.8913857677902621"
   ]
  },
  {
   "cell_type": "markdown",
   "metadata": {},
   "source": [
    "# Confusion matrix of the max one:-"
   ]
  },
  {
   "cell_type": "code",
   "execution_count": 34,
   "metadata": {},
   "outputs": [
    {
     "name": "stdout",
     "output_type": "stream",
     "text": [
      "[[ 62   6   2]\n",
      " [  3  37   9]\n",
      " [  1   8 139]]\n"
     ]
    }
   ],
   "source": [
    "k_model1=neighbors.KNeighborsClassifier(n_neighbors=1)\n",
    "k_model1.fit(X=X_train,y=y_train)\n",
    "y_pred=k_model1.predict(X_test)\n",
    "h=confusion_matrix(y_test,y_pred)\n",
    "print(h)"
   ]
  },
  {
   "cell_type": "code",
   "execution_count": null,
   "metadata": {},
   "outputs": [],
   "source": []
  }
 ],
 "metadata": {
  "kernelspec": {
   "display_name": "Python 3",
   "language": "python",
   "name": "python3"
  },
  "language_info": {
   "codemirror_mode": {
    "name": "ipython",
    "version": 3
   },
   "file_extension": ".py",
   "mimetype": "text/x-python",
   "name": "python",
   "nbconvert_exporter": "python",
   "pygments_lexer": "ipython3",
   "version": "3.7.6"
  }
 },
 "nbformat": 4,
 "nbformat_minor": 4
}
