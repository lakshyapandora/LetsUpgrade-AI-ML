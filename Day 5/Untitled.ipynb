{
 "cells": [
  {
   "cell_type": "markdown",
   "metadata": {},
   "source": [
    "## Question 1 :\n",
    "Write a Python program to find the first 20 non-even prime natural numbers.\n"
   ]
  },
  {
   "cell_type": "code",
   "execution_count": 7,
   "metadata": {},
   "outputs": [
    {
     "name": "stdout",
     "output_type": "stream",
     "text": [
      "1 non-even prime natural number= 3\n",
      "2 non-even prime natural number= 5\n",
      "3 non-even prime natural number= 7\n",
      "4 non-even prime natural number= 11\n",
      "5 non-even prime natural number= 13\n",
      "6 non-even prime natural number= 17\n",
      "7 non-even prime natural number= 19\n",
      "8 non-even prime natural number= 23\n",
      "9 non-even prime natural number= 29\n",
      "10 non-even prime natural number= 31\n",
      "11 non-even prime natural number= 37\n",
      "12 non-even prime natural number= 41\n",
      "13 non-even prime natural number= 43\n",
      "14 non-even prime natural number= 47\n",
      "15 non-even prime natural number= 53\n",
      "16 non-even prime natural number= 59\n",
      "17 non-even prime natural number= 61\n",
      "18 non-even prime natural number= 67\n",
      "19 non-even prime natural number= 71\n",
      "20 non-even prime natural number= 73\n"
     ]
    }
   ],
   "source": [
    "c=0\n",
    "i=3\n",
    "x=0\n",
    "while c<20:\n",
    "    for j in range(i):\n",
    "        if i%(j+1)==0:\n",
    "            x+=1\n",
    "    if x==2:\n",
    "        print(c+1,\"non-even prime natural number=\",i)\n",
    "        c+=1\n",
    "    i+=1\n",
    "    x=0"
   ]
  },
  {
   "cell_type": "markdown",
   "metadata": {},
   "source": [
    "## Question 2 :\n",
    "Write a Python program to implement 15 functions of string."
   ]
  },
  {
   "cell_type": "code",
   "execution_count": 98,
   "metadata": {},
   "outputs": [
    {
     "name": "stdout",
     "output_type": "stream",
     "text": [
      " lakshya pandora \n",
      " LAKSHYA PANDORA \n",
      " Lakshya Pandora \n",
      "Lakshya Pandora \n",
      " Lakshya Pandora\n",
      "Lakshya Pandora\n",
      " akshya Pandora \n",
      "['Lakshya', 'Pandora']\n",
      "2\n",
      "1\n",
      "Lakshya Pandora \n",
      "odnaP ayhska\n",
      "akshya Pa\n",
      " arodnaP ayhskaL \n",
      "17\n",
      "4\n",
      " Lakshya Pandora \n",
      "False\n",
      " lAKSHYA pANDORA \n"
     ]
    }
   ],
   "source": [
    "name=\" Lakshya Pandora \"\n",
    "print(name.lower())\n",
    "print(name.upper())\n",
    "print(name.title())\n",
    "print(name.lstrip())\n",
    "print(name.rstrip())\n",
    "print(name.strip())\n",
    "print(name.replace('L',''))\n",
    "print(name.split())\n",
    "print(name.find('a'))\n",
    "print(name.index('L'))\n",
    "print(name[1:])\n",
    "print(name[-4:1:-1])\n",
    "print(name[2:-6:1])\n",
    "print(name[::-1])\n",
    "print(len(name))\n",
    "print(name.count('a'))\n",
    "print(name.zfill(4))\n",
    "print(name.startswith('L'))\n",
    "print(name.swapcase())"
   ]
  },
  {
   "cell_type": "markdown",
   "metadata": {},
   "source": [
    "## Question 3:\n",
    "Write a Python program to check if the given string is a Palindrome or Anagram or None of them.\n",
    "Display the message accordingly to the user.\n"
   ]
  },
  {
   "cell_type": "code",
   "execution_count": 100,
   "metadata": {},
   "outputs": [
    {
     "name": "stdout",
     "output_type": "stream",
     "text": [
      "Enter str1iammai\n",
      "Enter str2iammia\n",
      "str1 is in palindrome\n",
      "str2 is not in palindrome\n",
      "They are Anagram\n"
     ]
    }
   ],
   "source": [
    "str1=input(\"Enter str1\")\n",
    "str2=input(\"Enter str2\")\n",
    "str3=str1[::-1]\n",
    "if str3==str1:\n",
    "    print(\"str1 is in palindrome\")\n",
    "else:\n",
    "    print(\"str1 is not in palindrome\")\n",
    "str4=str2[::-1]\n",
    "if str4==str2:\n",
    "    print(\"str2 is in palindrome\")\n",
    "else:\n",
    "    print(\"str2 is not in palindrome\")\n",
    "\n",
    "\n",
    "p=0\n",
    "    \n",
    "if len(str1)==len(str2):\n",
    "    l=len(str2)\n",
    "    str7=''.join(sorted(list(str1)))\n",
    "    str8=''.join(sorted(list(str2)))\n",
    "    for k in range(l):\n",
    "        if str7[k]==str8[k]:\n",
    "            p=p+1\n",
    "    if p==l:\n",
    "        print(\"They are Anagram\")\n",
    "    else:\n",
    "        print(\"They are not Anagram\")"
   ]
  },
  {
   "cell_type": "markdown",
   "metadata": {},
   "source": [
    "## Question 4:\n",
    "Write a Python's user defined function that removes all the additional characters from the string\n",
    "and converts it finally to lower case using built-in lower(). eg: If the string is \"Dr. Darshan Ingle\n",
    "@AI-ML Trainer\", then the output be \"drdarshaningleaimltrainer\"."
   ]
  },
  {
   "cell_type": "code",
   "execution_count": 97,
   "metadata": {},
   "outputs": [
    {
     "name": "stdout",
     "output_type": "stream",
     "text": [
      "drdarshaningleaimltrainer\n"
     ]
    }
   ],
   "source": [
    "name=\"Dr. Darshan Ingle @AI-ML Trainer\"\n",
    "\n",
    "\n",
    "def remaddcharlower(new1):\n",
    "    new2=\"\"\n",
    "\n",
    "    for character in new1:\n",
    "        if character.isalnum():\n",
    "            new2 += character\n",
    "    print(new2.lower())\n",
    "\n",
    "\n",
    "remaddcharlower(name)\n",
    "\n"
   ]
  }
 ],
 "metadata": {
  "kernelspec": {
   "display_name": "Python 3",
   "language": "python",
   "name": "python3"
  },
  "language_info": {
   "codemirror_mode": {
    "name": "ipython",
    "version": 3
   },
   "file_extension": ".py",
   "mimetype": "text/x-python",
   "name": "python",
   "nbconvert_exporter": "python",
   "pygments_lexer": "ipython3",
   "version": "3.6.5"
  }
 },
 "nbformat": 4,
 "nbformat_minor": 4
}
